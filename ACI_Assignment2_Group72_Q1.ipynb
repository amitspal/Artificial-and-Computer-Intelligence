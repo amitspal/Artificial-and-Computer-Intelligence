{
 "cells": [
  {
   "cell_type": "code",
   "execution_count": 1,
   "metadata": {},
   "outputs": [],
   "source": [
    "#pip install pomegranate\n",
    "\n",
    "# import required packages\n",
    "import pandas as pd\n",
    "import os\n",
    "from pomegranate import BayesianNetwork\n",
    "import warnings\n",
    "from matplotlib import pyplot\n",
    "from pandas.plotting import scatter_matrix\n",
    "import seaborn as sns\n",
    "from sklearn import datasets\n",
    "from sklearn import tree"
   ]
  },
  {
   "cell_type": "code",
   "execution_count": 2,
   "metadata": {},
   "outputs": [
    {
     "name": "stdout",
     "output_type": "stream",
     "text": [
      "-------------------------------------------------\n",
      "Reading all files..\n",
      "-------------------------------------------------\n"
     ]
    }
   ],
   "source": [
    "# read all the files and combine them to a single dataframe\n",
    "\n",
    "print('-------------------------------------------------')\n",
    "print('Reading all files..')\n",
    "print('-------------------------------------------------')\n",
    "path = 'dataset/'\n",
    "files = []\n",
    "# r=root, d=directories, f = files\n",
    "for r, d, f in os.walk(path):\n",
    "    for file in f:\n",
    "        if '.txt' in file:\n",
    "            files.append(os.path.join(r, file))\n",
    "\n",
    "names = ['counting_trust', 'counting_untrust', 'last_time', 'transaction_context', 'trust_score', 'fair_score', 'extra_space']\n",
    "df = pd.concat((pd.read_csv(file, sep=\" \", names = names, header =None)) for file in files)\n",
    "\n",
    "df.drop(columns=['extra_space'],inplace=True)\n",
    "df.to_csv(os.path.join(path,'complete_dataset.csv'))\n"
   ]
  },
  {
   "cell_type": "code",
   "execution_count": 3,
   "metadata": {},
   "outputs": [
    {
     "name": "stdout",
     "output_type": "stream",
     "text": [
      "-------------------------------------------------\n",
      "Different Unique Values of each feature\n",
      "-------------------------------------------------\n",
      "counting_trust:  ['CT_range_4' 'CT_range_1' 'CT_range_2' 'CT_range_3']\n",
      "counting_untrust:  ['CU_range_1' 'CU_range_4' 'CU_range_3' 'CU_range_5']\n",
      "last_time:  ['LT_range_4' 'LT_range_1' 'LT_range_3' 'LT_range_2']\n",
      "transaction_context:  ['sport' 'game' 'ECommerce' 'holiday']\n",
      "trust_score:  ['untrustworthy' 'trustworthy']\n",
      "fair_score:  ['fair' 'unfair']\n",
      "-------------------------------------------------\n"
     ]
    }
   ],
   "source": [
    "# check unique values of all the attributes\n",
    "\n",
    "print('-------------------------------------------------')\n",
    "print('Different Unique Values of each feature')\n",
    "print('-------------------------------------------------')\n",
    "print('counting_trust: ',df.counting_trust.unique())\n",
    "print('counting_untrust: ',df.counting_untrust.unique())\n",
    "print('last_time: ',df.last_time.unique())\n",
    "print('transaction_context: ',df.transaction_context.unique())\n",
    "print('trust_score: ',df.trust_score.unique())\n",
    "print('fair_score: ',df.fair_score.unique())\n",
    "print('-------------------------------------------------')"
   ]
  },
  {
   "cell_type": "code",
   "execution_count": 4,
   "metadata": {},
   "outputs": [
    {
     "name": "stdout",
     "output_type": "stream",
     "text": [
      "-------------------------------------------------\n",
      "Encoding the categorical data\n",
      "-------------------------------------------------\n",
      "-------------------------------------------------\n"
     ]
    }
   ],
   "source": [
    "# encode categorical attributes to form a Bayesian network\n",
    "\n",
    "print('-------------------------------------------------')\n",
    "print('Encoding the categorical data')\n",
    "print('-------------------------------------------------')\n",
    "df['counting_trust'].replace({'CT_range_1':1,'CT_range_2':2, 'CT_range_3':3, 'CT_range_4': 4},inplace=True)\n",
    "df['counting_untrust'].replace({'CU_range_1':1,'CU_range_2':2, 'CU_range_3':3, 'CU_range_4': 4, 'CU_range_5': 5},inplace=True)\n",
    "df['last_time'].replace({'LT_range_1':1,'LT_range_2':2, 'LT_range_3':3, 'LT_range_4': 4},inplace=True)\n",
    "df['transaction_context'].replace({'sport':1,'game':2, 'ECommerce':3, 'holiday': 4},inplace=True)\n",
    "df['trust_score'].replace({'untrustworthy':1,'trustworthy':2},inplace=True)\n",
    "df['fair_score'].replace({'unfair':1,'fair':2},inplace=True)\n",
    "print('-------------------------------------------------')"
   ]
  },
  {
   "cell_type": "code",
   "execution_count": 5,
   "metadata": {},
   "outputs": [
    {
     "name": "stdout",
     "output_type": "stream",
     "text": [
      "-------------------------------------------------\n",
      "Dataset Analysis\n",
      "-------------------------------------------------\n",
      "(4830, 6)\n",
      "   counting_trust  counting_untrust  last_time  transaction_context  \\\n",
      "0               4                 1          4                    1   \n",
      "1               4                 1          4                    1   \n",
      "2               1                 4          4                    1   \n",
      "3               2                 1          4                    1   \n",
      "4               3                 1          4                    1   \n",
      "5               4                 1          4                    1   \n",
      "6               1                 4          4                    1   \n",
      "7               2                 1          4                    1   \n",
      "8               3                 1          4                    1   \n",
      "9               4                 1          4                    1   \n",
      "\n",
      "   trust_score  fair_score  \n",
      "0            1           2  \n",
      "1            1           2  \n",
      "2            2           2  \n",
      "3            2           2  \n",
      "4            2           2  \n",
      "5            1           2  \n",
      "6            2           2  \n",
      "7            2           2  \n",
      "8            2           2  \n",
      "9            1           2  \n",
      "       counting_trust  counting_untrust   last_time  transaction_context  \\\n",
      "count     4830.000000       4830.000000  4830.00000          4830.000000   \n",
      "mean         2.195652          1.527950     2.36646             2.574534   \n",
      "std          1.271745          1.103818     1.34543             1.279096   \n",
      "min          1.000000          1.000000     1.00000             1.000000   \n",
      "25%          1.000000          1.000000     1.00000             1.000000   \n",
      "50%          2.000000          1.000000     2.00000             2.000000   \n",
      "75%          4.000000          1.000000     4.00000             4.000000   \n",
      "max          4.000000          5.000000     4.00000             4.000000   \n",
      "\n",
      "       trust_score   fair_score  \n",
      "count  4830.000000  4830.000000  \n",
      "mean      1.657971     1.839545  \n",
      "std       0.474438     0.367066  \n",
      "min       1.000000     1.000000  \n",
      "25%       1.000000     2.000000  \n",
      "50%       2.000000     2.000000  \n",
      "75%       2.000000     2.000000  \n",
      "max       2.000000     2.000000  \n",
      "-------------------------------------------------\n"
     ]
    }
   ],
   "source": [
    "# data analysis\n",
    "print('-------------------------------------------------')\n",
    "print('Dataset Analysis')\n",
    "print('-------------------------------------------------')\n",
    "#print(df)\n",
    "print(df.shape)\n",
    "print(df.head(10))\n",
    "print(df.describe())\n",
    "print('-------------------------------------------------')"
   ]
  },
  {
   "cell_type": "code",
   "execution_count": 6,
   "metadata": {},
   "outputs": [
    {
     "data": {
      "image/png": "[encoded data removed]",
      "text/plain": [
       "<Figure size 720x720 with 1 Axes>"
      ]
     },
     "metadata": {
      "needs_background": "light"
     },
     "output_type": "display_data"
    }
   ],
   "source": [
    "pyplot.rcParams['figure.figsize'] = (10,10)\n",
    "df.plot(kind='box') \n",
    "pyplot.show()\n",
    "\n",
    "# from the below box plots, counting_untrust and fair_score are having outliers"
   ]
  },
  {
   "cell_type": "code",
   "execution_count": 7,
   "metadata": {},
   "outputs": [
    {
     "data": {
      "image/png": "[encoded data removed]",
      "text/plain": [
       "<Figure size 720x720 with 6 Axes>"
      ]
     },
     "metadata": {
      "needs_background": "light"
     },
     "output_type": "display_data"
    }
   ],
   "source": [
    "# histograms \n",
    "df.hist()\n",
    "pyplot.show()\n",
    "\n",
    "# counting_untrust doesn't have values for range 2"
   ]
  },
  {
   "cell_type": "code",
   "execution_count": 8,
   "metadata": {},
   "outputs": [
    {
     "data": {
      "text/plain": [
       "<matplotlib.axes._subplots.AxesSubplot at 0x27229b6e708>"
      ]
     },
     "execution_count": 8,
     "metadata": {},
     "output_type": "execute_result"
    },
    {
     "data": {
      "image/png": "[encoded data removed]",
      "text/plain": [
       "<Figure size 720x720 with 2 Axes>"
      ]
     },
     "metadata": {
      "needs_background": "light"
     },
     "output_type": "display_data"
    }
   ],
   "source": [
    "# heat map to see the correlation between various features\n",
    "sns.heatmap(df.corr(),cmap='Blues', annot = True)"
   ]
  },
  {
   "cell_type": "code",
   "execution_count": 9,
   "metadata": {},
   "outputs": [
    {
     "name": "stdout",
     "output_type": "stream",
     "text": [
      "-------------------------------------------------\n",
      "Bayesian Network Algorithm: CHOW-LIU\n",
      "-------------------------------------------------\n",
      "\n",
      "\n",
      "The probability of an internet user having the characteristics\n",
      "(Trust Range \"4\" || Un-trust Range \"1\" || Last time surfing date Range \"4\" || Transaction context \"sport\" ||  \"Un-trustworthy\" || \"Fair\") is:\n",
      "\n",
      "\n",
      "0.009918185608412044\n",
      "\n",
      "\n",
      "The type of the internet surfer having the characteristics\n",
      "(Trust Range \"1\" || Un-trust Range \"1\" || Last time surfing date Range \"1\" || Transaction context \"shopping\" || \"Un-trustworthy\") is:\n",
      "\n",
      "\n",
      "FAIR\n",
      "\n",
      "\n",
      "The probability of an internet user having the characteristics\n",
      "(Trust Range \"4\" || Un-trust Range \"2\" || Last time surfing date Range \"3\" || Transaction context \"gaming\" ||  \"Trustworthy\" || \"UnFair\") is:\n",
      "\n",
      "\n",
      "0.0028797920812660372\n",
      "-------------------------------------------------\n",
      "-------------------------------------------------\n",
      "Bayesian Network Algorithm: GREEDY\n",
      "-------------------------------------------------\n",
      "\n",
      "\n",
      "The probability of an internet user having the characteristics\n",
      "(Trust Range \"4\" || Un-trust Range \"1\" || Last time surfing date Range \"4\" || Transaction context \"sport\" ||  \"Un-trustworthy\" || \"Fair\") is:\n",
      "\n",
      "\n",
      "0.055693581780538313\n",
      "\n",
      "\n",
      "The type of the internet surfer having the characteristics\n",
      "(Trust Range \"1\" || Un-trust Range \"1\" || Last time surfing date Range \"1\" || Transaction context \"shopping\" || \"Un-trustworthy\") is:\n",
      "\n",
      "\n",
      "FAIR\n",
      "\n",
      "\n",
      "The probability of an internet user having the characteristics\n",
      "(Trust Range \"4\" || Un-trust Range \"2\" || Last time surfing date Range \"3\" || Transaction context \"gaming\" ||  \"Trustworthy\" || \"UnFair\") is:\n",
      "\n",
      "\n",
      "0.014958592132505178\n",
      "-------------------------------------------------\n",
      "-------------------------------------------------\n",
      "Bayesian Network Algorithm: EXACT\n",
      "-------------------------------------------------\n",
      "\n",
      "\n",
      "The probability of an internet user having the characteristics\n",
      "(Trust Range \"4\" || Un-trust Range \"1\" || Last time surfing date Range \"4\" || Transaction context \"sport\" ||  \"Un-trustworthy\" || \"Fair\") is:\n",
      "\n",
      "\n",
      "0.055429955078561716\n",
      "\n",
      "\n",
      "The type of the internet surfer having the characteristics\n",
      "(Trust Range \"1\" || Un-trust Range \"1\" || Last time surfing date Range \"1\" || Transaction context \"shopping\" || \"Un-trustworthy\") is:\n",
      "\n",
      "\n",
      "FAIR\n",
      "\n",
      "\n",
      "The probability of an internet user having the characteristics\n",
      "(Trust Range \"4\" || Un-trust Range \"2\" || Last time surfing date Range \"3\" || Transaction context \"gaming\" ||  \"Trustworthy\" || \"UnFair\") is:\n",
      "\n",
      "\n",
      "0.0\n",
      "-------------------------------------------------\n",
      "-------------------------------------------------\n",
      "Bayesian Network Algorithm: EXACT-DP\n",
      "-------------------------------------------------\n",
      "\n",
      "\n",
      "The probability of an internet user having the characteristics\n",
      "(Trust Range \"4\" || Un-trust Range \"1\" || Last time surfing date Range \"4\" || Transaction context \"sport\" ||  \"Un-trustworthy\" || \"Fair\") is:\n",
      "\n",
      "\n",
      "0.055429955078561716\n",
      "\n",
      "\n",
      "The type of the internet surfer having the characteristics\n",
      "(Trust Range \"1\" || Un-trust Range \"1\" || Last time surfing date Range \"1\" || Transaction context \"shopping\" || \"Un-trustworthy\") is:\n",
      "\n",
      "\n",
      "FAIR\n",
      "\n",
      "\n",
      "The probability of an internet user having the characteristics\n",
      "(Trust Range \"4\" || Un-trust Range \"2\" || Last time surfing date Range \"3\" || Transaction context \"gaming\" ||  \"Trustworthy\" || \"UnFair\") is:\n",
      "\n",
      "\n",
      "0.0\n",
      "-------------------------------------------------\n"
     ]
    }
   ],
   "source": [
    "# construct Bayesian Network using pomegranate package\n",
    "# check probabilities and predictions for different algorithms while constructing Bayesian Network\n",
    "\n",
    "algorithms = []\n",
    "algorithms.append('chow-liu')\n",
    "algorithms.append('greedy')\n",
    "algorithms.append('exact')\n",
    "algorithms.append('exact-dp')\n",
    "\n",
    "for algorithm in algorithms:\n",
    "    warnings.filterwarnings('ignore')\n",
    "    model = BayesianNetwork.from_samples(df, algorithm=algorithm)\n",
    "    print('-------------------------------------------------')\n",
    "    print('Bayesian Network Algorithm: ' + algorithm.upper())\n",
    "    print('-------------------------------------------------')\n",
    "    \n",
    "    print('\\n')\n",
    "    print('The probability of an internet user having the characteristics')\n",
    "    print('(Trust Range \"4\" || Un-trust Range \"1\" || Last time surfing date Range \"4\" || Transaction context \"sport\" ||  \"Un-trustworthy\" || \"Fair\") is:')\n",
    "    print('\\n')   \n",
    "    print(model.probability([[4, 1, 4, 1, 1, 2]]))\n",
    "    \n",
    "\n",
    "    print('\\n')    \n",
    "    print('The type of the internet surfer having the characteristics')\n",
    "    print('(Trust Range \"1\" || Un-trust Range \"1\" || Last time surfing date Range \"1\" || Transaction context \"shopping\" || \"Un-trustworthy\") is:')\n",
    "    print('\\n')\n",
    "    #shopping is considered as 'ECommerce'\n",
    "    predition = model.predict([[1, 1, 1, 3, 1, None]])\n",
    "    predicted_type = predition[0][5]\n",
    "    if(predicted_type == 1):\n",
    "        type_of_user = 'UNFAIR'\n",
    "    elif(predicted_type == 2):\n",
    "        type_of_user = 'FAIR'\n",
    "    \n",
    "    print(type_of_user)\n",
    "    \n",
    "    print('\\n')\n",
    "    print('The probability of an internet user having the characteristics')\n",
    "    print('(Trust Range \"4\" || Un-trust Range \"2\" || Last time surfing date Range \"3\" || Transaction context \"gaming\" ||  \"Trustworthy\" || \"UnFair\") is:')\n",
    "    print('\\n')   \n",
    "    print(model.probability([[4, None, 3, 2, 2, 1]]))\n",
    "    print('-------------------------------------------------')"
   ]
  },
  {
   "cell_type": "code",
   "execution_count": 10,
   "metadata": {},
   "outputs": [
    {
     "data": {
      "text/plain": [
       "DecisionTreeClassifier(ccp_alpha=0.0, class_weight=None, criterion='entropy',\n",
       "                       max_depth=None, max_features=None, max_leaf_nodes=None,\n",
       "                       min_impurity_decrease=0.0, min_impurity_split=None,\n",
       "                       min_samples_leaf=1, min_samples_split=2,\n",
       "                       min_weight_fraction_leaf=0.0, presort='deprecated',\n",
       "                       random_state=None, splitter='best')"
      ]
     },
     "execution_count": 10,
     "metadata": {},
     "output_type": "execute_result"
    }
   ],
   "source": [
    "# Build decision tree classifier\n",
    "# Features: 'counting_trust', 'counting_untrust', 'last_time', 'transaction_context', 'trust_score'\n",
    "# Class: fair_score\n",
    "\n",
    "X = df[['counting_trust', 'counting_untrust', 'last_time', 'transaction_context', 'trust_score']]\n",
    "y = df[['fair_score']]\n",
    "dt = tree.DecisionTreeClassifier(criterion='entropy')\n",
    "dt.fit(X, y)"
   ]
  },
  {
   "cell_type": "code",
   "execution_count": 11,
   "metadata": {},
   "outputs": [],
   "source": [
    "# generate a dot file to see the decision tree\n",
    "dotfile = open(\"dt.dot\", 'w')\n",
    "tree.export_graphviz(dt, out_file=dotfile, feature_names=['counting_trust', 'counting_untrust', 'last_time', 'transaction_context', 'trust_score'])\n",
    "dotfile.close()"
   ]
  },
  {
   "cell_type": "code",
   "execution_count": 12,
   "metadata": {},
   "outputs": [],
   "source": [
    "# generate decision tree rules from the model\n",
    "\n",
    "from sklearn.tree import _tree\n",
    "\n",
    "def tree_to_code(tree, feature_names):\n",
    "\n",
    "    tree_ = tree.tree_\n",
    "    feature_name = [\n",
    "        feature_names[i] if i != _tree.TREE_UNDEFINED else \"undefined!\"\n",
    "        for i in tree_.feature\n",
    "    ]\n",
    "    print(\"def tree({}):\".format(\", \".join(feature_names)))\n",
    "\n",
    "    def recurse(node, depth):\n",
    "        indent = \"  \" * depth\n",
    "        if tree_.feature[node] != _tree.TREE_UNDEFINED:\n",
    "            name = feature_name[node]\n",
    "            threshold = tree_.threshold[node]\n",
    "            print(\"{}if {} <= {}:\".format(indent, name, threshold))\n",
    "            recurse(tree_.children_left[node], depth + 1)\n",
    "            print(\"{}else:  # if {} > {}\".format(indent, name, threshold))\n",
    "            recurse(tree_.children_right[node], depth + 1)\n",
    "        else:\n",
    "            print(\"{}return {}\".format(indent, tree_.value[node]))\n",
    "\n",
    "    recurse(0, 1)"
   ]
  },
  {
   "cell_type": "code",
   "execution_count": 13,
   "metadata": {},
   "outputs": [
    {
     "name": "stdout",
     "output_type": "stream",
     "text": [
      "def tree(counting_trust, counting_untrust, last_time, transaction_context, trust_score, fair_score, extra_space):\n",
      "  if trust_score <= 1.5:\n",
      "    if last_time <= 1.5:\n",
      "      if counting_untrust <= 2.5:\n",
      "        return [[271.   0.]]\n",
      "      else:  # if counting_untrust > 2.5\n",
      "        return [[  0. 127.]]\n",
      "    else:  # if last_time > 1.5\n",
      "      if transaction_context <= 2.5:\n",
      "        if counting_trust <= 3.5:\n",
      "          return [[154.   0.]]\n",
      "        else:  # if counting_trust > 3.5\n",
      "          if transaction_context <= 1.5:\n",
      "            return [[  0. 269.]]\n",
      "          else:  # if transaction_context > 1.5\n",
      "            return [[61.  0.]]\n",
      "      else:  # if transaction_context > 2.5\n",
      "        return [[  0. 770.]]\n",
      "  else:  # if trust_score > 1.5\n",
      "    if last_time <= 1.5:\n",
      "      if counting_untrust <= 2.5:\n",
      "        return [[   0. 1574.]]\n",
      "      else:  # if counting_untrust > 2.5\n",
      "        return [[38.  0.]]\n",
      "    else:  # if last_time > 1.5\n",
      "      if transaction_context <= 2.5:\n",
      "        if counting_trust <= 3.5:\n",
      "          return [[  0. 971.]]\n",
      "        else:  # if counting_trust > 3.5\n",
      "          if transaction_context <= 1.5:\n",
      "            return [[76.  0.]]\n",
      "          else:  # if transaction_context > 1.5\n",
      "            return [[  0. 344.]]\n",
      "      else:  # if transaction_context > 2.5\n",
      "        return [[175.   0.]]\n"
     ]
    }
   ],
   "source": [
    "# generate decision tree rules which can be coded into Prolog\n",
    "\n",
    "tree_to_code(dt, names)"
   ]
  },
  {
   "cell_type": "code",
   "execution_count": null,
   "metadata": {},
   "outputs": [],
   "source": []
  }
 ],
 "metadata": {
  "kernelspec": {
   "display_name": "Python 3",
   "language": "python",
   "name": "python3"
  },
  "language_info": {
   "codemirror_mode": {
    "name": "ipython",
    "version": 3
   },
   "file_extension": ".py",
   "mimetype": "text/x-python",
   "name": "python",
   "nbconvert_exporter": "python",
   "pygments_lexer": "ipython3",
   "version": "3.7.6"
  }
 },
 "nbformat": 4,
 "nbformat_minor": 4
}
